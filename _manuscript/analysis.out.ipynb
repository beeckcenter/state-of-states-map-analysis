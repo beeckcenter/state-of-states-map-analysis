{
 "cells": [
  {
   "cell_type": "markdown",
   "metadata": {},
   "source": [
    "# State of the States map analysis\n",
    "\n",
    "Elham Ali (Beeck Center for Social Impact and Innovation at Georgetown University)  \n",
    "September 30, 2025\n",
    "\n",
    "This analysis aims to explore trends of digital transformation, specifically on policy, chief data officers, digital service teams, impact reports, and design systems across U.S. states and territories.\n",
    "\n",
    "## Background\n",
    "\n",
    "When public climate & EJ evidence disappears (removed, restricted, or altered), a decade of downstream knowledge becomes harder to verify, reproduce, teach, or apply—especially for communities and decisions that most need it.  \n",
    "This analysis looks at how many studies have used these tools, their topics, and their use cases.\n",
    "\n",
    "## Questions\n",
    "\n",
    "Here are the key questions explored in this analysis:\n",
    "\n",
    "-   How many **states/territories** have at least one:\n",
    "\n",
    "    -   Executive order\n",
    "    -   AI Legislation\n",
    "    -   Chief Data Officer (CDO)\n",
    "    -   Digital Service Team (DST)\n",
    "    -   Digital Service Impact Report\n",
    "    -   Design system\n",
    "\n",
    "-   What is the **distribution of digital transformation activities** by state/territory? (e.g., number of EOs per state)\n",
    "\n",
    "-   Which states are the **most active vs. least active** across all categories?\n",
    "\n",
    "-   Which states introduced CDOs or DSTs earliest, and how has that spread across regions?\n",
    "\n",
    "-   Which states with **active CDOs** also have **design systems** or **DSTs**?\n",
    "\n",
    "-   Are states with AI legislation more likely to have other forms of digital infrastructure (DST, design systems)?\n",
    "\n",
    "-   What are the **most common policy topics** in executive orders (e.g., broadband, interoperability, AI)?\n",
    "\n",
    "-   What are the **most common policy topics** in AI legislations orders (e.g., broadband, interoperability, AI)?\n",
    "\n",
    "-   What is the **trend over time** in the number of executive orders and AI legislations enacted?\n",
    "\n",
    "-   Do **early adopters** (states with policies from 2010–2015) differ from late adopters in 2020–2025?\n",
    "\n",
    "-   Do states with **higher numbers of executive orders** also pass more legislations or rules?\n",
    "\n",
    "-   Do states with **impact reports** show evidence of greater adoption of other digital practices?\n",
    "\n",
    "-   Other ideas: Heatmaps of activity types by state, regional comparisons (Northeast vs. South vs. West), and timelines of adoption by year (EOs, bills, rules).\n",
    "\n",
    "## Data Sources\n",
    "\n",
    "The climate tools assessed are:\n",
    "\n",
    "-   map_data\n",
    "-   policy_data\n",
    "\n",
    "The data for this project comes from the Digital Service Network at the Beeck and last refreshed on September 30, 2025.\n",
    "\n",
    "Original raw datasets are saved in the `data/` folder. This script reduces and cleans those datasets to prepare them for analysis.\n",
    "\n",
    "------------------------------------------------------------------------\n",
    "\n",
    "## Cleaning\n",
    "\n",
    "I start by loading the packages needed for file handling, data wrangling, and visualization."
   ],
   "id": "7bbe97e0-0edb-4a62-8f1d-e78f768ae674"
  },
  {
   "cell_type": "code",
   "execution_count": null,
   "metadata": {},
   "outputs": [
    {
     "output_type": "stream",
     "name": "stderr",
     "text": [
      "here() starts at /Users/elhamali/Documents/Data Projects/state-of-states-map-analysis"
     ]
    },
    {
     "output_type": "stream",
     "name": "stderr",
     "text": [
      "── Attaching core tidyverse packages ──────────────────────── tidyverse 2.0.0 ──\n",
      "✔ dplyr     1.1.4     ✔ readr     2.1.5\n",
      "✔ forcats   1.0.0     ✔ stringr   1.5.1\n",
      "✔ ggplot2   3.5.2     ✔ tibble    3.3.0\n",
      "✔ lubridate 1.9.4     ✔ tidyr     1.3.1\n",
      "✔ purrr     1.1.0     "
     ]
    },
    {
     "output_type": "stream",
     "name": "stderr",
     "text": [
      "── Conflicts ────────────────────────────────────────── tidyverse_conflicts() ──\n",
      "✖ dplyr::filter() masks stats::filter()\n",
      "✖ dplyr::lag()    masks stats::lag()\n",
      "ℹ Use the conflicted package (<http://conflicted.r-lib.org/>) to force all conflicts to become errors"
     ]
    },
    {
     "output_type": "stream",
     "name": "stderr",
     "text": [
      "\n",
      "Attaching package: 'janitor'\n",
      "\n",
      "The following objects are masked from 'package:stats':\n",
      "\n",
      "    chisq.test, fisher.test"
     ]
    },
    {
     "output_type": "stream",
     "name": "stderr",
     "text": [
      "Registered S3 method overwritten by 'quantmod':\n",
      "  method            from\n",
      "  as.zoo.data.frame zoo "
     ]
    },
    {
     "output_type": "stream",
     "name": "stderr",
     "text": [
      "\n",
      "Attaching package: 'igraph'\n",
      "\n",
      "The following objects are masked from 'package:lubridate':\n",
      "\n",
      "    %--%, union\n",
      "\n",
      "The following objects are masked from 'package:dplyr':\n",
      "\n",
      "    as_data_frame, groups, union\n",
      "\n",
      "The following objects are masked from 'package:purrr':\n",
      "\n",
      "    compose, simplify\n",
      "\n",
      "The following object is masked from 'package:tidyr':\n",
      "\n",
      "    crossing\n",
      "\n",
      "The following object is masked from 'package:tibble':\n",
      "\n",
      "    as_data_frame\n",
      "\n",
      "The following objects are masked from 'package:stats':\n",
      "\n",
      "    decompose, spectrum\n",
      "\n",
      "The following object is masked from 'package:base':\n",
      "\n",
      "    union"
     ]
    }
   ],
   "source": [
    "## Folder structure helpers\n",
    "library(here)"
   ],
   "id": "aba47753-dc9b-4a52-955f-d54e0a26f81a"
  },
  {
   "cell_type": "markdown",
   "metadata": {},
   "source": [
    "### Import raw data\n",
    "\n",
    "I import all .csv files from the `data/` folder, then save them as .rds files into `output/`. This preserves their structure and speeds up future reads."
   ],
   "id": "9ed2a6bf-4620-4998-8272-75314c366a72"
  },
  {
   "cell_type": "code",
   "execution_count": null,
   "metadata": {},
   "outputs": [],
   "source": [
    "# List all CSV files\n",
    "csv_files <- list.files(here(\"data\"), pattern = \"\\\\.csv$\", full.names = TRUE)\n",
    "\n",
    "# Read into a list of dataframes\n",
    "datasets <- map(csv_files, read.csv)\n",
    "names(datasets) <- tools::file_path_sans_ext(basename(csv_files))\n",
    "\n",
    "# Save each dataset as .rds in output/\n",
    "walk2(\n",
    "  datasets,\n",
    "  names(datasets),\n",
    "  ~ saveRDS(.x, here(\"output\", paste0(.y, \".rds\")))\n",
    ")"
   ],
   "id": "845638bf-aac3-472b-8517-55f3d9ad0858"
  },
  {
   "cell_type": "markdown",
   "metadata": {},
   "source": [
    "### Clean both datasets\n",
    "\n",
    "I apply the same cleaning process to both datasets (map_data and policy_data):\n",
    "\n",
    "-   Standardize variable names to snake_case\n",
    "-   Guess variable types (integers, doubles, dates, etc.)\n",
    "-   Convert responses for ‘executive_orders’, ‘ai_legislations’, ‘digital_service_teams’, ‘digital_service_impact_reports’\n",
    "    -   yes to 1\n",
    "    -   no to 0\n",
    "-   Convert responses for ‘design_systems’\n",
    "    -   yes to 1\n",
    "    -   in development to 1\n",
    "    -   no to 0\n",
    "    -   unverified to 0\n",
    "-   Convert responses for ‘chief_data_officers’\n",
    "    -   yes, state CDO to 1\n",
    "    -   yes, state CDO equivalent to 1\n",
    "    -   no to 0\n",
    "    -   no, vacant to 0\n",
    "    -   unverified to 0\n",
    "-   Add a region variable to classify the state’s based on CDC’s four regions [1]\n",
    "    -   **Northeast**: Includes Connecticut, Maine, Massachusetts, New Hampshire, New Jersey, New York, Pennsylvania, Rhode Island, and Vermont\n",
    "    -   **Midwest**: Includes Illinois, Indiana, Iowa, Kansas, Michigan, Minnesota, Missouri, Nebraska, North Dakota, Ohio, South Dakota, and Wisconsin\n",
    "    -   **South**: Includes Alabama, Arkansas, Delaware, District of Columbia, Florida, Georgia, Kentucky, Louisiana, Maryland, Mississippi, North Carolina, Oklahoma, South Carolina, Tennessee, Texas, Virginia, and West Virginia\n",
    "    -   **West**: Includes Alaska, Arizona, California, Colorado, Hawaii, Idaho, Montana, Nevada, New Mexico, Oregon, Utah, Washington, and Wyoming.\n",
    "    -   **Territories**: Includes American Samoa, Guam, the Northern Mariana Islands, Puerto Rico, and the U.S. Virgin Islands (not included in CDC’s regional mapping, but I added here to include the territories)\n",
    "\n",
    "[1] <https://www.cdc.gov/nchs/hus/sources-definitions/geographic-region.htm>"
   ],
   "id": "63e41e79-7851-4564-ba58-f93fcc41e096"
  },
  {
   "cell_type": "code",
   "execution_count": null,
   "metadata": {},
   "outputs": [
    {
     "output_type": "stream",
     "name": "stderr",
     "text": [
      "\n",
      "Attaching package: 'fs'"
     ]
    },
    {
     "output_type": "stream",
     "name": "stderr",
     "text": [
      "The following object is masked from 'package:igraph':\n",
      "\n",
      "    path"
     ]
    }
   ],
   "source": [
    "# -------------------------------------------------------------------\n",
    "# Libraries\n",
    "library(here)\n",
    "library(tidyverse)   # includes dplyr, stringr, readr, etc.\n",
    "library(janitor)\n",
    "library(lubridate)\n",
    "library(forcats)\n",
    "library(glue)\n",
    "library(fs)"
   ],
   "id": "5dd84de7-f819-4947-989e-8f1990e8945d"
  },
  {
   "cell_type": "markdown",
   "metadata": {},
   "source": [
    "I’ll now assign the right variable types for the cleaned datasets."
   ],
   "id": "e2801a72-589a-4d4b-832a-bba46dadbddc"
  },
  {
   "cell_type": "code",
   "execution_count": null,
   "metadata": {},
   "outputs": [],
   "source": [
    "library(dplyr)\n",
    "library(stringr)\n",
    "library(readr)\n",
    "library(forcats)\n",
    "\n",
    "# load inputs created earlier\n",
    "map_data_clean    <- readr::read_rds(here(\"output\", \"map_data_clean.rds\"))\n",
    "policy_data_clean <- readr::read_rds(here(\"output\", \"policy_data_clean.rds\"))\n",
    "\n",
    "to_binary <- function(x) {\n",
    "  if (is.logical(x)) return(as.integer(x))\n",
    "  if (is.numeric(x)) return(as.integer(x == 1))\n",
    "  x_chr <- tolower(trimws(as.character(x)))\n",
    "  x_chr[x_chr == \"\"] <- NA\n",
    "  yes_vals <- c(\"yes\",\"y\",\"true\",\"t\",\"1\",\"present\",\"has\",\"active\",\"in development\")\n",
    "  no_vals  <- c(\"no\",\"n\",\"false\",\"f\",\"0\",\"absent\",\"none\",\"inactive\",\"unverified\",\"no, vacant\")\n",
    "  as.integer(dplyr::case_when(\n",
    "    x_chr %in% yes_vals ~ 1L,\n",
    "    x_chr %in% no_vals  ~ 0L,\n",
    "    TRUE ~ NA_integer_\n",
    "  ))\n",
    "}\n",
    "\n",
    "to_region_factor <- function(x) {\n",
    "  # map region labels to codes 1..5\n",
    "  ref <- c(\"Northeast\",\"Midwest\",\"South\",\"West\",\"Territories\")\n",
    "  idx <- match(as.character(x), ref)          # NA if label not in ref\n",
    "  factor(as.character(idx), levels = as.character(seq_along(ref)), ordered = TRUE)\n",
    "}\n",
    "\n",
    "# ---------- map_data_clean ----------\n",
    "map_int_cols <- c(\n",
    "  \"total_number_of_executive_orders\",\n",
    "  \"total_number_of_legislation\",\n",
    "  \"total_number_of_administrative_rules\",\n",
    "  \"publication_year\"\n",
    ")\n",
    "map_dbl_cols <- c(\"cdo_year_established\")\n",
    "map_bin_cols <- c(\n",
    "  \"executive_orders\",\"ai_legislations\",\"administrative_rules\",\n",
    "  \"digital_service_teams\",\"digital_service_impact_reports\",\n",
    "  \"chief_data_officers\",\"design_systems\",\"design_system_open_source_status\"\n",
    ")\n",
    "map_cat_cols <- c(\"bill_status\")\n",
    "\n",
    "map_data_clean <- map_data_clean %>%\n",
    "  mutate(across(everything(), ~ as.character(.))) %>%\n",
    "  mutate(\n",
    "    across(any_of(map_int_cols), ~ suppressWarnings(as.integer(readr::parse_number(.)))),\n",
    "    across(any_of(map_dbl_cols), ~ suppressWarnings(as.double(readr::parse_number(.)))),\n",
    "    across(any_of(map_bin_cols), to_binary),\n",
    "    across(any_of(map_cat_cols), ~ forcats::as_factor(trimws(.))),\n",
    "    region = to_region_factor(region)\n",
    "  )\n",
    "\n",
    "# ---------- policy_data_clean ----------\n",
    "pol_int_cols <- c(\"executive_order_year_enacted\", \"legislative_session\")\n",
    "pol_cat_cols <- c(\"scan_type\", \"bill_status\")\n",
    "\n",
    "policy_data_clean <- policy_data_clean %>%\n",
    "  mutate(across(everything(), ~ as.character(.))) %>%\n",
    "  mutate(\n",
    "    across(any_of(pol_int_cols), ~ suppressWarnings(as.integer(readr::parse_number(.)))),\n",
    "    across(any_of(pol_cat_cols), ~ forcats::as_factor(trimws(.))),\n",
    "    region = to_region_factor(region)\n",
    "  )"
   ],
   "id": "034a15a6-1b69-498a-b3ca-b38df223b5ea"
  },
  {
   "cell_type": "markdown",
   "metadata": {},
   "source": [
    "## Analysis\n",
    "\n",
    "I will look at each question one by one and clean the data as I go. I will organize the data during the analysis before exploring the results. I’ll also export intermediate results into tidy CSV files so they are ready for further visualization and exploration.\n",
    "\n",
    "-   How many **states/territories** have at least one:\n",
    "\n",
    "    -   Executive order\n",
    "    -   AI Legislation\n",
    "    -   Chief Data Officer (CDO)\n",
    "    -   Digital Service Team (DST)\n",
    "    -   Digital Service Impact Report\n",
    "    -   Design system"
   ],
   "id": "c6a40de9-0a47-4ba3-aa0a-159f157b9f53"
  },
  {
   "cell_type": "code",
   "execution_count": null,
   "metadata": {},
   "outputs": [
    {
     "output_type": "stream",
     "name": "stderr",
     "text": [
      "\n",
      "Attaching package: 'scales'"
     ]
    },
    {
     "output_type": "stream",
     "name": "stderr",
     "text": [
      "The following object is masked from 'package:purrr':\n",
      "\n",
      "    discard"
     ]
    },
    {
     "output_type": "stream",
     "name": "stderr",
     "text": [
      "The following object is masked from 'package:readr':\n",
      "\n",
      "    col_factor"
     ]
    },
    {
     "output_type": "stream",
     "name": "stderr",
     "text": [
      "file:////Users/elhamali/Documents/Data Projects/state-of-states-map-analysis/output/q1.html screenshot completed"
     ]
    },
    {
     "output_type": "display_data",
     "metadata": {},
     "data": {
      "image/png": "[encoded data removed]"
     }
    },
    {
     "output_type": "stream",
     "name": "stdout",
     "text": [
      "83.9% U.S. states/territories have an executive order.\n",
      "55.4% U.S. states/territories have AI legislation.\n",
      "51.8% U.S. states/territories have a chief data office (CDO).\n",
      "33.9% U.S. states/territories have a design system.\n",
      "25.0% U.S. states/territories have a digital service team (DST).\n",
      "12.5% U.S. states/territories have a digital service impact report."
     ]
    }
   ],
   "source": [
    "library(readr); library(here)\n",
    "map_data_clean <- read_rds(here(\"output\", \"map_data_clean.rds\"))\n",
    "\n",
    "\n",
    "# Packages\n",
    "library(tidyverse)\n",
    "library(highcharter)\n",
    "library(htmlwidgets)\n",
    "library(webshot2)\n",
    "library(glue)\n",
    "library(scales)"
   ],
   "id": "ebd246a8-f77d-48d4-a12d-187cabd6807c"
  },
  {
   "cell_type": "markdown",
   "metadata": {},
   "source": [
    "-   Which **regions** have the most vs least:\n",
    "\n",
    "    -   Executive order\n",
    "\n",
    "    -   AI Legislations\n",
    "\n",
    "    -   Chief Data Officers (CDO)\n",
    "\n",
    "    -   Digital Service Teams (DST)\n",
    "\n",
    "    -   Digital Service Impact Reports\n",
    "\n",
    "    -   Design systems\n",
    "\n",
    "<!-- -->\n",
    "\n",
    "-   What is the **distribution of digital transformation activities** by state/territory? (e.g., number of EOs per state)\n",
    "\n",
    "<!-- -->\n",
    "\n",
    "-   Which states are the **most active vs. least active** across all categories?\n",
    "\n",
    "-   Which states introduced CDOs or DSTs earliest, and how has that spread across regions?\n",
    "\n",
    "-   Which states with **active CDOs** also have **design systems** or **DSTs**?\n",
    "\n",
    "-   Are states with AI legislation more likely to have other forms of digital infrastructure (DST, design systems)?\n",
    "\n",
    "-   What are the **most common policy topics** in executive orders (e.g., broadband, interoperability, AI)?\n",
    "\n",
    "-   What are the **most common policy topics** in AI legislations orders (e.g., broadband, interoperability, AI)?\n",
    "\n",
    "-   What is the **trend over time** in the number of executive orders and AI legislations enacted?\n",
    "\n",
    "-   Do **early adopters** (states with policies from 2010–2015) differ from late adopters in 2020–2025?\n",
    "\n",
    "-   Do states with **higher numbers of executive orders** also pass more legislations or rules?\n",
    "\n",
    "-   Do states with **impact reports** show evidence of greater adoption of other digital practices?\n",
    "\n",
    "-   Other ideas: Heatmaps of activity types by state, regional comparisons (Northeast vs. South vs. West), and timelines of adoption by year (EOs, bills, rules)."
   ],
   "id": "2c969ccb-f07c-471c-a300-173e841cc2d7"
  }
 ],
 "nbformat": 4,
 "nbformat_minor": 5,
 "metadata": {}
}
